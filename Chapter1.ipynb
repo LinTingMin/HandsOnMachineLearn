{
 "cells": [
  {
   "cell_type": "code",
   "execution_count": 11,
   "metadata": {
    "scrolled": true
   },
   "outputs": [
    {
     "name": "stdout",
     "output_type": "stream",
     "text": [
      "                 GDP per capita  Life satisfaction\n",
      "Country                                           \n",
      "Mexico                 9009.280                6.6\n",
      "Russia                 9054.914                6.0\n",
      "Turkey                 9437.372                5.5\n",
      "Hungary               12239.894                5.3\n",
      "Chile                 13340.905                6.7\n",
      "Slovak Republic       15991.736                6.1\n",
      "Czech Republic        17256.918                6.6\n",
      "Estonia               17288.083                5.6\n",
      "Greece                18064.288                5.2\n",
      "Portugal              19121.592                5.2\n",
      "Slovenia              20732.482                5.8\n",
      "Spain                 25864.721                6.4\n",
      "Korea                 27195.197                5.9\n",
      "Italy                 29866.581                5.9\n",
      "Japan                 32485.545                5.9\n",
      "Israel                35343.336                7.2\n",
      "New Zealand           37044.891                7.3\n",
      "France                37675.006                6.4\n",
      "Belgium               40106.632                6.9\n",
      "Germany               40996.511                7.0\n",
      "Finland               41973.988                7.5\n",
      "Canada                43331.961                7.3\n",
      "Netherlands           43603.115                7.4\n",
      "Austria               43724.031                7.0\n",
      "United Kingdom        43770.688                6.7\n",
      "Sweden                49866.266                7.3\n",
      "Iceland               50854.583                7.5\n",
      "Australia             50961.865                7.3\n",
      "Ireland               51350.744                7.0\n"
     ]
    },
    {
     "data": {
      "image/png": "[encoded data removed]",
      "text/plain": [
       "<Figure size 432x288 with 1 Axes>"
      ]
     },
     "metadata": {
      "needs_background": "light"
     },
     "output_type": "display_data"
    }
   ],
   "source": [
    "import matplotlib\n",
    "import matplotlib.pyplot as plt\n",
    "import numpy as np\n",
    "import pandas as pd\n",
    "import sklearn\n",
    "from sklearn.linear_model import LogisticRegression\n",
    "\n",
    "## OECD 삶의 만족도(life satisfaction) 데이터와 1인당 GDP(GDP per capita) 데이터를 합침\n",
    "def prepare_country_stats(oecd_bli, gdp_per_capita):\n",
    "    oecd_bli = oecd_bli[oecd_bli[\"INEQUALITY\"]==\"TOT\"]\n",
    "    oecd_bli = oecd_bli.pivot(index=\"Country\", columns=\"Indicator\", values=\"Value\")\n",
    "    gdp_per_capita.rename(columns={\"2015\": \"GDP per capita\"}, inplace=True)\n",
    "    gdp_per_capita.set_index(\"Country\", inplace=True)\n",
    "    full_country_stats = pd.merge(left=oecd_bli, right=gdp_per_capita,\n",
    "                                  left_index=True, right_index=True)\n",
    "    full_country_stats.sort_values(by=\"GDP per capita\", inplace=True)\n",
    "    remove_indices = [0, 1, 6, 8, 33, 34, 35]\n",
    "    keep_indices = list(set(range(36)) - set(remove_indices))\n",
    "    return full_country_stats[[\"GDP per capita\", 'Life satisfaction']].iloc[keep_indices]\n",
    "\n",
    "## 데이터 적재(pandas 라이브러리 이용)\n",
    "oecd_bli = pd.read_csv(\"D:/PythonTest/oecd_bli_2015.csv\", thousands=',')\n",
    "gdp_per_capita = pd.read_csv(\"D:/PythonTest/GDP_per_capita_2015.xls\", thousands=',', delimiter='\\t', encoding='latin1', na_values=\"n/a\")\n",
    "\n",
    "## 데이터 준비\n",
    "country_stats = prepare_country_stats(oecd_bli, gdp_per_capita)\n",
    "print(country_stats)\n",
    "X = np.c_[country_stats[\"GDP per capita\"]]\n",
    "y = np.c_[country_stats[\"Life satisfaction\"]]\n",
    "\n",
    "## 데이터 시각화(산점도 그리기)\n",
    "country_stats.plot(kind='scatter', x=\"GDP per capita\", y=\"Life satisfaction\")\n",
    "plt.show()\n"
   ]
  },
  {
   "cell_type": "code",
   "execution_count": 12,
   "metadata": {},
   "outputs": [
    {
     "data": {
      "text/plain": [
       "LinearRegression(copy_X=True, fit_intercept=True, n_jobs=None,\n",
       "         normalize=False)"
      ]
     },
     "execution_count": 12,
     "metadata": {},
     "output_type": "execute_result"
    }
   ],
   "source": [
    "\n",
    "##선형 모델 선택\n",
    "model = sklearn.linear_model.LinearRegression()\n",
    "\n",
    "##모델훈련\n",
    "model.fit(X,y)"
   ]
  },
  {
   "cell_type": "code",
   "execution_count": 17,
   "metadata": {},
   "outputs": [
    {
     "name": "stdout",
     "output_type": "stream",
     "text": [
      "2015 중국 삶의 만족도: [[5.60995887]]\n"
     ]
    }
   ],
   "source": [
    "##중국 GDP 7989.72에 대한 만족도 계산\n",
    "X_new = [[7989.72]]\n",
    "print('2015 중국 삶의 만족도: ' + str(model.predict(X_new)))"
   ]
  },
  {
   "cell_type": "code",
   "execution_count": 18,
   "metadata": {},
   "outputs": [
    {
     "name": "stdout",
     "output_type": "stream",
     "text": [
      "2015 중국 삶의 만족도: [[6.36579531]]\n"
     ]
    }
   ],
   "source": [
    "##한국 GDP 27195.197에 대한 만족도 계산\n",
    "X_new = [[27195.197]]\n",
    "print('2015 중국 삶의 만족도: ' + str(model.predict(X_new)))"
   ]
  },
  {
   "cell_type": "code",
   "execution_count": null,
   "metadata": {},
   "outputs": [],
   "source": []
  }
 ],
 "metadata": {
  "kernelspec": {
   "display_name": "Python 3",
   "language": "python",
   "name": "python3"
  },
  "language_info": {
   "codemirror_mode": {
    "name": "ipython",
    "version": 3
   },
   "file_extension": ".py",
   "mimetype": "text/x-python",
   "name": "python",
   "nbconvert_exporter": "python",
   "pygments_lexer": "ipython3",
   "version": "3.7.1"
  }
 },
 "nbformat": 4,
 "nbformat_minor": 2
}
